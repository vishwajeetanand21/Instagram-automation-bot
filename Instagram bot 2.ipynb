{
 "cells": [
  {
   "cell_type": "markdown",
   "id": "bb56b66b",
   "metadata": {},
   "source": [
    "Storing username and password"
   ]
  },
  {
   "cell_type": "code",
   "execution_count": 55,
   "id": "45a5715e",
   "metadata": {},
   "outputs": [],
   "source": [
    "username='sample Username'\n",
    "password='sample password'"
   ]
  },
  {
   "cell_type": "markdown",
   "id": "d540db3a",
   "metadata": {},
   "source": [
    "# Instagram Bot 2"
   ]
  },
  {
   "cell_type": "markdown",
   "id": "45f9977e",
   "metadata": {},
   "source": [
    "Importing necessary library files"
   ]
  },
  {
   "cell_type": "code",
   "execution_count": 2,
   "id": "0ca3beb1",
   "metadata": {},
   "outputs": [],
   "source": [
    "from time import sleep\n",
    "from bs4 import BeautifulSoup \n",
    "from selenium import webdriver\n",
    "from selenium.webdriver.common.by import By\n",
    "from selenium.webdriver.support.ui import WebDriverWait\n",
    "from selenium.webdriver.support import expected_conditions as EC\n",
    "from selenium.common.exceptions import TimeoutException\n",
    "from IPython.display import Video\n",
    "from selenium.webdriver.chrome.service import Service\n",
    "import matplotlib.pyplot as plt\n",
    "from datetime import datetime, timedelta\n",
    "import pandas as pd\n",
    "import numpy as np"
   ]
  },
  {
   "cell_type": "markdown",
   "id": "dfd2a592",
   "metadata": {},
   "source": [
    "Initiate the driver session"
   ]
  },
  {
   "cell_type": "code",
   "execution_count": 3,
   "id": "2ed7a9a2",
   "metadata": {},
   "outputs": [],
   "source": [
    "service=Service(executable_path=\"/path/to/chromedriver\")\n",
    "driver=webdriver.Chrome(service=service)\n",
    "driver.get('https://www.instagram.com/')"
   ]
  },
  {
   "cell_type": "markdown",
   "id": "578fcbe7",
   "metadata": {},
   "source": [
    "Maximize the window"
   ]
  },
  {
   "cell_type": "code",
   "execution_count": 4,
   "id": "81fe6e29",
   "metadata": {},
   "outputs": [],
   "source": [
    "driver.maximize_window()"
   ]
  },
  {
   "cell_type": "markdown",
   "id": "2554630e",
   "metadata": {},
   "source": [
    "Initialize explicit wait"
   ]
  },
  {
   "cell_type": "code",
   "execution_count": 5,
   "id": "2ac63631",
   "metadata": {},
   "outputs": [],
   "source": [
    "wait=WebDriverWait(driver,20)"
   ]
  },
  {
   "cell_type": "markdown",
   "id": "25c531db",
   "metadata": {},
   "source": [
    "Login to instagram"
   ]
  },
  {
   "cell_type": "code",
   "execution_count": 6,
   "id": "d50be2be",
   "metadata": {},
   "outputs": [],
   "source": [
    "def Login_To_Insta(userName,Password):\n",
    "    # Locating Username TextBox then enter username\n",
    "    wait.until(EC.presence_of_element_located((By.NAME,'username'))).send_keys(userName)\n",
    "\n",
    "    # Locating Password TextBox then enter password\n",
    "    wait.until(EC.presence_of_element_located((By.NAME,'password'))).send_keys(Password)\n",
    "\n",
    "    # Locating Login Button then submit it\n",
    "    wait.until(EC.presence_of_element_located((By.CLASS_NAME,'_acan'))).submit()"
   ]
  },
  {
   "cell_type": "code",
   "execution_count": 7,
   "id": "efabcc65",
   "metadata": {},
   "outputs": [],
   "source": [
    "#Login to your Instagram Handle\n",
    "Login_To_Insta(username,password)"
   ]
  },
  {
   "cell_type": "code",
   "execution_count": 8,
   "id": "8366566f",
   "metadata": {},
   "outputs": [],
   "source": [
    "sleep(5)"
   ]
  },
  {
   "cell_type": "code",
   "execution_count": 9,
   "id": "5cf2a483",
   "metadata": {},
   "outputs": [],
   "source": [
    "# Locating 'Save your Login Info?' then click on 'Not now' button\n",
    "wait.until(EC.presence_of_element_located((By.XPATH,'//button[contains(@class,\"_acao\")]'))).click()"
   ]
  },
  {
   "cell_type": "code",
   "execution_count": 10,
   "id": "780d826a",
   "metadata": {},
   "outputs": [],
   "source": [
    "# Locating 'Turn on Notification' : then click on 'No'\n",
    "wait.until(EC.presence_of_element_located((By.XPATH,'//button[contains(@class,\"_a9_1\")]'))).click()"
   ]
  },
  {
   "cell_type": "markdown",
   "id": "991d65ef",
   "metadata": {},
   "source": [
    "# Problem 1. Now your friend has followed a lot of different food bloggers, he needs to analyse the habits of these bloggers.\n",
    "    \n",
    "## 1.1 From the list of instagram handles you obtained when you searched ‘food’ in previous project. Open the first 10 handles and find the top 5 which have the highest number of followers"
   ]
  },
  {
   "cell_type": "code",
   "execution_count": 11,
   "id": "554cb7e4",
   "metadata": {},
   "outputs": [],
   "source": [
    "#function to return the first 10 search result of 'food' \n",
    "def search(string,n):\n",
    "    User_Handle={} #this dictionary variable will store the user handle and the link to that account\n",
    "    \n",
    "    \n",
    "    #locating the search button\n",
    "    wait.until(EC.presence_of_element_located((By.XPATH,'/html/body/div[2]/div/div/div/div[1]/div/div/div/div[1]/div[1]/div[1]/div/div/div/div/div[2]/div[2]/div/a/div'))).click()\n",
    "    \n",
    "    \n",
    "    # Locating Search TextBox then enter search string\n",
    "    wait.until(EC.presence_of_element_located((By.XPATH,'//input[@class=\"_aauy focus-visible\"]'))).send_keys(string)\n",
    "    \n",
    "    \n",
    "    #find all the search result\n",
    "    userID=wait.until(EC.presence_of_all_elements_located((By.CLASS_NAME,'_abm4')))\n",
    "    \n",
    "    \n",
    "    #storing the base url, and on this we will append the user handle and we'll make a get request\n",
    "    base_url='https://instagram.com'\n",
    "    \n",
    "    \n",
    "    # store user handle with their handle link\n",
    "    count=0\n",
    "    for i in userID:\n",
    "        \n",
    "        if count>=n:\n",
    "            break\n",
    "        html_content=i.get_attribute('outerHTML')\n",
    "        User_Link = BeautifulSoup(html_content,'html.parser').a['href']\n",
    "        Get_User_Handle = User_Link.split('/')[1]\n",
    "        if Get_User_Handle!='explore':\n",
    "            User_Handle[Get_User_Handle]=base_url+User_Link\n",
    "            count+=1\n",
    "            \n",
    "    return User_Handle"
   ]
  },
  {
   "cell_type": "code",
   "execution_count": 12,
   "id": "91a74040",
   "metadata": {},
   "outputs": [],
   "source": [
    "Store_user_IDs=search('food',10)"
   ]
  },
  {
   "cell_type": "code",
   "execution_count": 13,
   "id": "15d16900",
   "metadata": {},
   "outputs": [
    {
     "data": {
      "text/plain": [
       "10"
      ]
     },
     "execution_count": 13,
     "metadata": {},
     "output_type": "execute_result"
    }
   ],
   "source": [
    "len(Store_user_IDs)"
   ]
  },
  {
   "cell_type": "code",
   "execution_count": 14,
   "id": "51b30e6a",
   "metadata": {},
   "outputs": [
    {
     "name": "stdout",
     "output_type": "stream",
     "text": [
      "foodranchi https://instagram.com/foodranchi/\n",
      "food_impramation https://instagram.com/food_impramation/\n",
      "moglifood https://instagram.com/moglifood/\n",
      "foodtalkindia https://instagram.com/foodtalkindia/\n",
      "foodhunter_sabu https://instagram.com/foodhunter_sabu/\n",
      "foodiyyappa https://instagram.com/foodiyyappa/\n",
      "food https://instagram.com/food/\n",
      "foodie_incarnate https://instagram.com/foodie_incarnate/\n",
      "indori_foodiess https://instagram.com/indori_foodiess/\n",
      "foodies_findings https://instagram.com/foodies_findings/\n"
     ]
    }
   ],
   "source": [
    "for i in Store_user_IDs:\n",
    "    print(i,Store_user_IDs[i])"
   ]
  },
  {
   "cell_type": "markdown",
   "id": "79112350",
   "metadata": {},
   "source": [
    "Storing the names of instagram handles"
   ]
  },
  {
   "cell_type": "code",
   "execution_count": 15,
   "id": "efa234e3",
   "metadata": {},
   "outputs": [],
   "source": [
    "handle_names=[] #this will store only the username\n",
    "for i in Store_user_IDs:\n",
    "    handle_names.append(i)"
   ]
  },
  {
   "cell_type": "code",
   "execution_count": 16,
   "id": "edbef8c8",
   "metadata": {},
   "outputs": [
    {
     "name": "stdout",
     "output_type": "stream",
     "text": [
      "foodranchi\n",
      "food_impramation\n",
      "moglifood\n",
      "foodtalkindia\n",
      "foodhunter_sabu\n",
      "foodiyyappa\n",
      "food\n",
      "foodie_incarnate\n",
      "indori_foodiess\n",
      "foodies_findings\n"
     ]
    }
   ],
   "source": [
    "for i in handle_names:\n",
    "    print(i)"
   ]
  },
  {
   "cell_type": "markdown",
   "id": "68f0c5a7",
   "metadata": {},
   "source": [
    "Storing the link of all instagram accounts"
   ]
  },
  {
   "cell_type": "code",
   "execution_count": 17,
   "id": "02ac43ca",
   "metadata": {},
   "outputs": [],
   "source": [
    "user_ids=[] #this will store only the link\n",
    "for i in Store_user_IDs:\n",
    "    user_ids.append(Store_user_IDs[i])"
   ]
  },
  {
   "cell_type": "code",
   "execution_count": 18,
   "id": "6bafbaa4",
   "metadata": {},
   "outputs": [
    {
     "name": "stdout",
     "output_type": "stream",
     "text": [
      "https://instagram.com/foodranchi/\n",
      "https://instagram.com/food_impramation/\n",
      "https://instagram.com/moglifood/\n",
      "https://instagram.com/foodtalkindia/\n",
      "https://instagram.com/foodhunter_sabu/\n",
      "https://instagram.com/foodiyyappa/\n",
      "https://instagram.com/food/\n",
      "https://instagram.com/foodie_incarnate/\n",
      "https://instagram.com/indori_foodiess/\n",
      "https://instagram.com/foodies_findings/\n"
     ]
    }
   ],
   "source": [
    "for i in user_ids:\n",
    "    print(i)"
   ]
  },
  {
   "cell_type": "markdown",
   "id": "e17eed45",
   "metadata": {},
   "source": [
    "Opening the first 10 handles and find the top 5 which have the highest number of followers"
   ]
  },
  {
   "cell_type": "code",
   "execution_count": 19,
   "id": "9a39bd29",
   "metadata": {},
   "outputs": [],
   "source": [
    "#function to return the followers of the account\n",
    "def Count_Followers(user_Handle_link):\n",
    "    #Go to that website\n",
    "    driver.get(user_Handle_link)\n",
    "    \n",
    "    #wait for 2 seconds to load the data\n",
    "    sleep(2)\n",
    "    \n",
    "    #locate the followers button\n",
    "    data = wait.until(EC.presence_of_element_located((By.PARTIAL_LINK_TEXT,'followers')))\n",
    "    \n",
    "    #parse that HTML data\n",
    "    Follower_count = BeautifulSoup(data.get_attribute('outerHTML'),'html.parser').span['title']\n",
    "    \n",
    "    #replace the comma ',' with a space \n",
    "    Follower_count=int(Follower_count.replace(',',''))\n",
    "    \n",
    "\n",
    "    return Follower_count"
   ]
  },
  {
   "cell_type": "code",
   "execution_count": 20,
   "id": "e0911221",
   "metadata": {},
   "outputs": [],
   "source": [
    "# And storing the result in a dictionary\n",
    "result={}\n",
    "for i in range(10):\n",
    "    #print(handle_names[i], end=' : ')    ->this will print the handle\n",
    "    #print(Count_Followers(user_ids[i]))  ->this will print the total number of followers of that account\n",
    "    \n",
    "    result[handle_names[i]]=Count_Followers(user_ids[i])"
   ]
  },
  {
   "cell_type": "code",
   "execution_count": 21,
   "id": "29801283",
   "metadata": {},
   "outputs": [
    {
     "name": "stdout",
     "output_type": "stream",
     "text": [
      "foodranchi : 142690\n",
      "food_impramation : 241680\n",
      "moglifood : 2098\n",
      "foodtalkindia : 309199\n",
      "foodhunter_sabu : 506103\n",
      "foodiyyappa : 161\n",
      "food : 182643\n",
      "foodie_incarnate : 1473666\n",
      "indori_foodiess : 6617\n",
      "foodies_findings : 511879\n"
     ]
    }
   ],
   "source": [
    "# Printing the result\n",
    "for i in result:\n",
    "    print(\"{} : {}\".format(i,result[i]))"
   ]
  },
  {
   "cell_type": "markdown",
   "id": "b394590d",
   "metadata": {},
   "source": [
    "Sort the result in descending order and display top 5 account with highest number of followers"
   ]
  },
  {
   "cell_type": "code",
   "execution_count": 22,
   "id": "c1f738f0",
   "metadata": {},
   "outputs": [
    {
     "name": "stdout",
     "output_type": "stream",
     "text": [
      "foodie_incarnate : 1473666\n",
      "foodies_findings : 511879\n",
      "foodhunter_sabu : 506103\n",
      "foodtalkindia : 309199\n",
      "food_impramation : 241680\n",
      "food : 182643\n",
      "foodranchi : 142690\n",
      "indori_foodiess : 6617\n",
      "moglifood : 2098\n",
      "foodiyyappa : 161\n"
     ]
    }
   ],
   "source": [
    "# This method is used to sort dictionary based on the values (if reverse=True, it means sorting in Descending order)\n",
    "import operator\n",
    "sorted_result=dict(sorted(result.items(), key=operator.itemgetter(1), reverse=True))\n",
    "\n",
    "# printing the result\n",
    "for i in sorted_result:\n",
    "    print(\"{} : {}\".format(i, sorted_result[i]))"
   ]
  },
  {
   "cell_type": "markdown",
   "id": "c65f49c9",
   "metadata": {},
   "source": [
    "Storing only the top 5 handles of the sorted result"
   ]
  },
  {
   "cell_type": "code",
   "execution_count": 23,
   "id": "40cf8d79",
   "metadata": {},
   "outputs": [],
   "source": [
    "# These two variables will store the username and their followers\n",
    "top_five_handles=[]\n",
    "top_five_followers=[]\n",
    "\n",
    "top_five_handles=sorted_result.keys()\n",
    "top_five_followers=sorted_result.values()\n",
    "\n",
    "# converting into list\n",
    "top_five_handles=list(top_five_handles)\n",
    "top_five_followers=list(top_five_followers)\n",
    "\n",
    "# storing only the top 5 handles and thier followers\n",
    "top_five_handles=top_five_handles[:5]\n",
    "top_five_followers=top_five_followers[:5]"
   ]
  },
  {
   "cell_type": "code",
   "execution_count": 24,
   "id": "c680cea9",
   "metadata": {},
   "outputs": [
    {
     "name": "stdout",
     "output_type": "stream",
     "text": [
      "['foodie_incarnate', 'foodies_findings', 'foodhunter_sabu', 'foodtalkindia', 'food_impramation']\n",
      "[1473666, 511879, 506103, 309199, 241680]\n"
     ]
    }
   ],
   "source": [
    "print(top_five_handles)\n",
    "print(top_five_followers)"
   ]
  },
  {
   "cell_type": "markdown",
   "id": "ce05a5cc",
   "metadata": {},
   "source": [
    "Display the result in the form of pie chart"
   ]
  },
  {
   "cell_type": "code",
   "execution_count": 25,
   "id": "db7a50b2",
   "metadata": {},
   "outputs": [
    {
     "data": {
      "image/png": "[encoded data removed]",
      "text/plain": [
       "<Figure size 720x720 with 1 Axes>"
      ]
     },
     "metadata": {},
     "output_type": "display_data"
    }
   ],
   "source": [
    "# Setting the size of the image\n",
    "plt.figure(figsize=(10,10))\n",
    "\n",
    "# setting the value of pie chart\n",
    "plt.pie(top_five_followers,\n",
    "        labels=top_five_handles,\n",
    "        autopct=\"%.2f%%\",\n",
    "        counterclock=False\n",
    "       )\n",
    "\n",
    "# Title of the pie chart \n",
    "plt.title('Top 5 user which have the highest number of followers ',fontsize=20, color='blue',alpha=0.7)\n",
    "\n",
    "# Displaying the result\n",
    "plt.show()"
   ]
  },
  {
   "cell_type": "markdown",
   "id": "df43fef6",
   "metadata": {},
   "source": [
    "## 1.2 Now Find the number of posts these handles have done in the previous 3 days."
   ]
  },
  {
   "cell_type": "markdown",
   "id": "54515d6d",
   "metadata": {},
   "source": [
    "Function to return the number of post from that account\n",
    "1. First go to that website\n",
    "2. Wait for the page to load\n",
    "3. Click on the first post\n",
    "4. Maintain a variable to return the answer\n",
    "5. Get the time and date of that post "
   ]
  },
  {
   "cell_type": "code",
   "execution_count": 26,
   "id": "557b6fe2",
   "metadata": {},
   "outputs": [],
   "source": [
    "def Number_of_Post(user_url,No_of_Days):\n",
    "        \n",
    "    driver.get(user_url)\n",
    "    sleep(2)\n",
    "    First_Post = wait.until(EC.presence_of_element_located((By.XPATH,'//div[@class=\"_ac7v _aang\"]/div[1]')))\n",
    "    First_Post.click()\n",
    "    no_of_post=0\n",
    "    while True:\n",
    "\n",
    "        time_of_post = wait.until(EC.presence_of_element_located((By.XPATH,'//time[@class=\"_aaqe\"]'))).get_attribute('datetime')\n",
    "        date_of_post = datetime.strptime(time_of_post[0:19], \"%Y-%m-%dT%H:%M:%S\")\n",
    "        if (datetime.now() - date_of_post).days > No_of_Days :\n",
    "            break\n",
    "        else :\n",
    "            no_of_post += 1\n",
    "\n",
    "        Next_post = wait.until(EC.presence_of_element_located((By.XPATH,'//div[@class=\" _aaqg _aaqh\"]/button')))\n",
    "        Next_post.click()\n",
    "        sleep(2)\n",
    "\n",
    "    driver.back()\n",
    "    return no_of_post\n"
   ]
  },
  {
   "cell_type": "code",
   "execution_count": 27,
   "id": "d89c8876",
   "metadata": {},
   "outputs": [],
   "source": [
    "no_of_post_per_user = {}\n",
    "for ID in top_five_handles:\n",
    "    user_url=Store_user_IDs[ID]\n",
    "    Post_count=Number_of_Post(user_url,3)\n",
    "    no_of_post_per_user[ID]=Post_count"
   ]
  },
  {
   "cell_type": "code",
   "execution_count": 28,
   "id": "454698fb",
   "metadata": {},
   "outputs": [
    {
     "data": {
      "text/plain": [
       "{'foodie_incarnate': 1,\n",
       " 'foodies_findings': 1,\n",
       " 'foodhunter_sabu': 0,\n",
       " 'foodtalkindia': 4,\n",
       " 'food_impramation': 0}"
      ]
     },
     "execution_count": 28,
     "metadata": {},
     "output_type": "execute_result"
    }
   ],
   "source": [
    "no_of_post_per_user"
   ]
  },
  {
   "cell_type": "markdown",
   "id": "94358183",
   "metadata": {},
   "source": [
    "## 1.3 Depict this information using a suitable graph."
   ]
  },
  {
   "cell_type": "code",
   "execution_count": 29,
   "id": "29fc703c",
   "metadata": {},
   "outputs": [
    {
     "data": {
      "image/png": "[encoded data removed]",
      "text/plain": [
       "<Figure size 432x288 with 1 Axes>"
      ]
     },
     "metadata": {
      "needs_background": "light"
     },
     "output_type": "display_data"
    }
   ],
   "source": [
    "x = no_of_post_per_user.keys()\n",
    "# Storing the names of the handle\n",
    "\n",
    "y = no_of_post_per_user.values()\n",
    "# Storing the number of post in last 3 days\n",
    "\n",
    "# Setting the value of the bar plot\n",
    "plt.bar(x,y,color='g')#ploting the name of the account and the number of posts\n",
    "\n",
    "# Setting the x-label and y-label\n",
    "plt.ylabel(\"No. of posts in past 3 days\",size=12)\n",
    "plt.xlabel(\"Instagram handles\",size=12)\n",
    "\n",
    "# xticks for the rotation of text in x-axis\n",
    "plt.xticks(rotation = 45)\n",
    "\n",
    "# Title of our barplot\n",
    "plt.title('Most Followed user vs Number of recent posts ',fontsize=20, color='green',alpha=0.8)\n",
    "\n",
    "# making grids\n",
    "plt.grid()\n",
    "\n",
    "# pting the result\n",
    "plt.show()"
   ]
  },
  {
   "cell_type": "markdown",
   "id": "5c2cb788",
   "metadata": {},
   "source": [
    "# Problem 2: Your friend also needs a list of hashtags that he should use in his posts."
   ]
  },
  {
   "cell_type": "markdown",
   "id": "56bf9b62",
   "metadata": {},
   "source": [
    "## 2.1 Open the 5 handles you obtained in the last question, and scrape the content of the first 10 posts of each handle."
   ]
  },
  {
   "cell_type": "markdown",
   "id": "95cb4f63",
   "metadata": {},
   "source": [
    "Function to return the content of the post"
   ]
  },
  {
   "cell_type": "code",
   "execution_count": 30,
   "id": "16f88b4b",
   "metadata": {},
   "outputs": [],
   "source": [
    "def content_of_post(user_url,No_of_post):\n",
    "        \n",
    "    Text_list = []   #this variable will store the content of all words used in that post\n",
    "    \n",
    "    driver.get(user_url) #open the url\n",
    "    \n",
    "    sleep(2) #wait for the page to load\n",
    "    \n",
    "    #click on the first post\n",
    "    First_Post = wait.until(EC.presence_of_element_located((By.XPATH,'//div[@class=\"_ac7v _aang\"]/div[1]')))\n",
    "    First_Post.click()\n",
    "    \n",
    "    #variable to keep the track of number of post\n",
    "    no_of_post=0\n",
    "    while True:\n",
    "        #get the caption of the current post\n",
    "        HTML = wait.until(EC.presence_of_element_located((By.CLASS_NAME,'_a9zr')))\n",
    "        \n",
    "        #convert that text into BeautifulSoup\n",
    "        Texts = BeautifulSoup(HTML.get_attribute('innerHTML'),'html.parser').find_all('a')\n",
    "        \n",
    "        # get the text\n",
    "        for text in Texts:\n",
    "            text=text.text\n",
    "            if text[0]!='@':\n",
    "                Text_list.append(text)\n",
    "        \n",
    "        #after every post increment this variable\n",
    "        no_of_post += 1\n",
    "        if No_of_post==no_of_post: #if total number of post==10 then break the loop\n",
    "            break\n",
    "        \n",
    "        #click on the next post\n",
    "        Next_post = wait.until(EC.presence_of_element_located((By.XPATH,'//div[@class=\" _aaqg _aaqh\"]/button')))\n",
    "        Next_post.click()\n",
    "        #wait to load the page\n",
    "        sleep(2)\n",
    "    \n",
    "    #go to the home page\n",
    "    driver.back()\n",
    "    \n",
    "    #return all the text of that post in the form of a list \n",
    "    return Text_list"
   ]
  },
  {
   "cell_type": "code",
   "execution_count": 31,
   "id": "56128653",
   "metadata": {},
   "outputs": [
    {
     "name": "stdout",
     "output_type": "stream",
     "text": [
      "foodie_incarnate ---> ['foodie_incarnate', '#foodieincarnate', '#reelitfeelit', '#reelkarofeelkaro', '#reelsinstagram', '#reels', '#saibaba', '#shirdi', '#shirdisaibaba', '#viralfood', '#explore', 'foodie_incarnate', '#foodieincarnate', '#reelitfeelit', '#reelkarofeelkaro', '#reelsinstagram', '#reels', '#bihar', '#patna', '#viralfood', '#explore', 'foodie_incarnate', '#foodieincarnate', '#sodelhi', '#newdelhi', '#foodtalkindia', '#desifood', '#delhigram', '#indianfood', '#pancake', '#japanesecuisine', '#coffee', '#delhi', '#delhifood', '#delhifoodie', '#japanesecuisine', '#jigglypancake', '#pancakes', '#foodblogger', '#delhifoodblogger', '#mumbaifoodblogger', '#indianfoodblogger', '#selectcitywalk', '#indianfoodie', '#thingstodoindelhi', '#japanesefood', 'foodie_incarnate', '#foodieincarnate', '#reelitfeelit', '#reelkarofeelkaro', '#reelsinstagram', '#reels', '#panipuri', '#streetfood', '#golgappa', '#viralfood', '#explore', 'foodie_incarnate', '#foodieincarnate', '#reelitfeelit', '#reelkarofeelkaro', '#reelsinstagram', '#reels', '#bihar', '#patna', '#streetfood', '#viralfood', '#explore', 'foodie_incarnate', '#foodieincarnate', '#streetfood', '#ghaziabad', '#ghaziabadfood', '#indianstreetfood', 'foodie_incarnate', '#foodieincarnate', '#reelitfeelit', '#reelkarofeelkaro', '#reelsinstagram', '#reels', '#panipuri', '#golgappa', '#puchka', '#golgappe', '#viralfood', '#bihari', '#explore', 'foodie_incarnate', '#foodieincarnate', '#reelitfeelit', '#reelkarofeelkaro', '#reelsinstagram', '#reels', '#indianstreetfood', '#mumbai', '#streetfood', '#viralfood', '#explore', 'foodie_incarnate', '#foodieincarnate', '#staycation', '#crowneplaza', '#foodieincarnaterestaurantreviews', '#crowneplazagreaternoida', 'foodie_incarnate', '#foodieincarnate', '#reelitfeelit', '#reelkarofeelkaro', '#reelsinstagram', '#reels', '#bhaang', '#hash', '#high', '#viralfood', '#explore']\n",
      "\n",
      "\n",
      "foodies_findings ---> ['foodies_findings', '#foodiesfindings', '#friedrice', '#chennaifoodie', '#chennaiblogger', '#chennaifood', '#chennaifoodblogger', '#chennaifoodguide', '#chennaifoodspots', '#wherechennaieats', '#foodofchennai', '#chennaites', '#chennai😍', '#instafood', '#walkwithchennai', '#foodgasm', '#foodporn', '#chennaifoodies', '#foodaddict', '#foodstagram', '#foodvideography', '#reelsininstagram', '#eatrepeat', '#Alwarpet', '#biryanilove', '#biryanilover', 'foodies_findings', '#foodiesfindings', '#friedrice', '#chennaifoodie', '#chennaiblogger', '#chennaifood', '#chennaifoodblogger', '#chennaifoodguide', '#chennaifoodspots', '#wherechennaieats', '#foodofchennai', '#chennaites', '#chennai😍', '#instafood', '#walkwithchennai', '#foodgasm', '#foodporn', '#chennaifoodies', '#foodaddict', '#foodstagram', '#foodvideography', '#reelsininstagram', '#eatrepeat', '#Alwarpet', '#biryanilove', '#biryanilover', 'foodies_findings', '#foodiesfindings', '#friedrice', '#chennaifoodie', '#chennaiblogger', '#chennaifood', '#chennaifoodblogger', '#chennaifoodguide', '#chennaifoodspots', '#wherechennaieats', '#foodofchennai', '#chennaites', '#chennai😍', '#instafood', '#walkwithchennai', '#foodgasm', '#foodporn', '#chennaifoodies', '#foodaddict', '#foodstagram', '#foodvideography', '#reelsininstagram', '#eatrepeat', '#Alwarpet', '#biryanilove', '#biryanilover', 'foodies_findings', '#foodiesfindings', '#friedrice', '#chennaifoodie', '#chennaiblogger', '#chennaifood', '#chennaifoodblogger', '#chennaifoodguide', '#chennaifoodspots', '#wherechennaieats', '#foodofchennai', '#chennaites', '#chennai😍', '#instafood', '#walkwithchennai', '#foodgasm', '#foodporn', '#chennaifoodies', '#foodaddict', '#foodstagram', '#foodvideography', '#reelsininstagram', '#eatrepeat', '#Alwarpet', '#biryanilove', '#biryanilover', 'foodies_findings', '#foodiesfindings', '#friedrice', '#chennaifoodie', '#chennaiblogger', '#chennaifood', '#chennaifoodblogger', '#chennaifoodguide', '#chennaifoodspots', '#wherechennaieats', '#foodofchennai', '#chennaites', '#chennai😍', '#instafood', '#walkwithchennai', '#foodgasm', '#foodporn', '#chennaifoodies', '#foodaddict', '#foodstagram', '#foodvideography', '#reelsininstagram', '#eatrepeat', '#Alwarpet', '#biryanilove', '#biryanilover', 'foodies_findings', '#foodiesfindings', '#friedrice', '#chennaifoodie', '#chennaiblogger', '#chennaifood', '#chennaifoodblogger', '#chennaifoodguide', '#chennaifoodspots', '#wherechennaieats', '#foodofchennai', '#chennaites', '#chennai😍', '#instafood', '#walkwithchennai', '#foodgasm', '#foodporn', '#chennaifoodies', '#foodaddict', '#foodstagram', '#foodvideography', '#reelsininstagram', '#eatrepeat', '#Alwarpet', '#biryanilove', '#biryanilover', 'foodies_findings', '#foodiesfindings', '#friedrice', '#chennaifoodie', '#chennaiblogger', '#chennaifood', '#chennaifoodblogger', '#chennaifoodguide', '#chennaifoodspots', '#bangalore', '#wherechennaieats', '#foodofchennai', '#chennaites', '#chennai😍', '#instafood', '#walkwithchennai', '#foodgasm', '#foodporn', '#chennaifoodies', '#foodaddict', '#foodstagram', '#foodvideography', '#reelsininstagram', '#eatrepeat', '#Alwarpet', '#biryanilove', '#biryanilover', 'foodies_findings', '#foodiesfindings', '#friedrice', '#chennaifoodie', '#chennaiblogger', '#chennaifood', '#chennaifoodblogger', '#chennaifoodguide', '#chennaifoodspots', '#wherechennaieats', '#foodofchennai', '#chennaites', '#chennai😍', '#instafood', '#walkwithchennai', '#foodgasm', '#foodporn', '#chennaifoodies', '#foodaddict', '#foodstagram', '#foodvideography', '#reelsininstagram', '#eatrepeat', '#Alwarpet', '#biryanilove', '#biryanilover', 'foodies_findings', '#foodiesfindings', '#friedrice', '#chennaifoodie', '#chennaiblogger', '#chennaifood', '#chennaifoodblogger', '#chennaifoodguide', '#chennaifoodspots', '#wherechennaieats', '#foodofchennai', '#chennaites', '#chennai😍', '#instafood', '#walkwithchennai', '#foodgasm', '#foodporn', '#chennaifoodies', '#foodaddict', '#foodstagram', '#foodvideography', '#reelsininstagram', '#eatrepeat', '#Trivandrum', '#Kethelschicken', '#biryanilove', '#biryanilover', 'foodies_findings', '#foodiesfindings', '#friedrice', '#chennaifoodie', '#chennaiblogger', '#chennaifood', '#chennaifoodblogger', '#chennaifoodguide', '#chennaifoodspots', '#wherechennaieats', '#foodofchennai', '#chennaites', '#chennai😍', '#instafood', '#walkwithchennai', '#foodgasm', '#foodporn', '#chennaifoodies', '#foodaddict', '#foodstagram', '#foodvideography', '#reelsininstagram', '#eatrepeat', '#Alwarpet', '#biryanilove', '#biryanilover']\n",
      "\n",
      "\n",
      "foodhunter_sabu ---> ['redfmmalayalam', 'redfmmalayalam', 'r_j_hemanth', '#next', 'foodhunter_sabu', '#foodhunt', '#mumbai', '#mumbaidiaries', '#mumbaifood', '#keralagram', '#keralaattraction', '#travelreels', '#falooda', '#foodhunter_sabu', '#malayali', '#kerala', 'foodhunter_sabu', '#calicut', '#calicutbeach', '#calicutdiaries', '#kozhikode', '#kozhikoden', '#malayali', '#kerala', '#mallu', '#foodhunter_sabu', '#travelling', '#panasian', '#kochidiaries', '#kannurdiaries', '#kannurfood', '#solocafe', 'foodhunter_sabu', '#foodlove', '#foodloversindia', '#keralagram', '#kerala360', '#kerala🌴', '#malayali', '#malayalis', '#keralafood', '#lunch', '#seafood', '#indianfood', '#indianfoodie', '#traveller', '#travelphotography', '#travelreels', '#traveling', '#foodhunter_sabu', '#foodies', '#malappuram', '#malabar', '#kondotty', '#karipurairport', '#calicut', '#kozhikode', '#kozhikoden', '#kozhikottukar', 'foodhunter_sabu', '#tamilnadu', '#tamilnadutourism', '#madurai', '#maduraifood', '#chennai', '#chennaifoodie', '#chennaifood', '#pondichery', '#keralablasters', '#keralagram', '#keralaattraction', '#keralagallery', '#kochivibes', '#calicutdiaries', '#kollam', '#alappuzha', '#trivandrumdiaries', '#foodhunter_sabu', '#travel', '#travelblogger', '#travelreels', '#traveling', '#foodvlogger', '#keralablogger', '#keraladiaries', '#seafood', '#prawns', '#streetfood', '#streetfoodindia', 'foodhunter_sabu', '#foodiegram', '#foodielife', '#panasian', '#calicut', '#kozhikode', '#calicutbeach', '#calicutfood', '#calicutdiaries', '#wayanad', '#wayanadan', '#wayanaddiaries', '#asian', '#sushi', '#beefsteak', '#wagyu', '#keralatourism', '#keralagallery', '#keralaattraction', '#indianfood', '#travellers', 'foodhunter_sabu', '#TyohaarWahiMithaasNayi', '#Ad', '#KwalityWalls', '#DiwaliMeetha', '#DiwaliFood', '#DiwaliCelebration', '#DiwaliDesserts', '#GulabJamun', '#foodhunter_sabu', '#desserts', '#IcecreamDessert', '#Diwali2022', '#GulabJamunIceCream', '#DiwaliTreats', '#happydiwali', '#traveller', '#kerala', '#indian', 'foodhunter_sabu', '#malappuram', '#perinthalmanna', '#kottakkal', '#malabar', '#malappuramkaar', '#keralatourism', '#keralablasters', '#mallugram', '#malluhood', '#keralagallery', '#travelgram', '#travelindia', '#instafood', '#foodlover', '#healthyfood', '#calicut', '#kozhikoden', '#kozhikottukar', '#kochigram', '#kochivibes', '#foodhunter_sabu', '#avilmilk', '#mouzy', '#malabares']\n",
      "\n",
      "\n"
     ]
    },
    {
     "name": "stdout",
     "output_type": "stream",
     "text": [
      "foodtalkindia ---> ['foodtalkindia', '#NewInTown', '#taproom', '#beer', '#food', '#collaboration', '#foodtalkindia', '#foodiesofindia', '#foodblogger', '#delicious', '#yummy', '#instafood', '#discover', 'foodtalkindia', '#growwithjade', '#tykexjadeforest', '#beverage', '#foodtalkindia', '#discover', 'foodtalkindia', '#paranthas', '#delhi', '#foodtalkindia', '#foodiesofindia', '#foodblogger', '#delicious', '#yummy', '#instafood', '#discover', 'foodtalkindia', '#GiveawayAlert', '#baraat', '#giveaway', '#participatenow', '#indiancuisine', '#regional', '#foodtalkindia', '#foodiesofindia', '#foodblogger', '#delicious', '#yummy', '#instafood', '#discover', 'foodtalkindia', '#NewInTown', '#bizza', '#mumbai', '#pizza', '#cocktails', '#artisanal', '#woodfired', '#oven', '#foodtalkindia', '#foodiesofindia', '#foodblogger', '#delicious', '#yummy', '#instafood', '#discover', 'foodtalkindia', '#grilledcheese', '#sandwich', '#athome', '#reelitfeelit', '#instareels', '#foodtalkindia', '#foodiesofindia', '#foodblogger', '#delicious', '#yummy', '#instafood', '#discover', 'foodtalkindia', '#delhi', '#mumbai', '#beer', '#FIFA2022', '#football', '#bars', '#foodtalkindia', '#foodiesofindia', '#foodblogger', '#delicious', '#yummy', '#instafood', '#discover', 'foodtalkindia', '#deliverykitchens', '#burgers', '#hotdogs', '#pizzas', '#midnight', '#cravings', '#foodtalkindia', '#foodiesofindia', '#instagood', '#instafood', '#discover', 'foodtalkindia', '#NewInTown', '#hosa', '#southindian', '#goa', '#foodtalkindia', '#food', '#foodgasm', '#foodiesofindia', '#foodbloggers', '#instagram', '#discover', 'foodtalkindia', '#delhi', '#mumbai', '#newmenus', '#roundup', '#foodtalkindia', '#foodtalk', '#instagram', '#discover']\n",
      "\n",
      "\n",
      "food_impramation ---> ['food_impramation', '#foodblogger', '#food', '#foodie', '#foodporn', '#foodphotography', '#foodstagram', '#instafood', '#foodlover', '#yummy', '#delicious', '#foodgasm', '#foodies', '#homemade', '#foodpics', '#instagood', '#healthyfood', '#foodblog', '#foodiesofinstagram', '#tasty', '#dinner', '#indianfood', '#love', '#cooking', '#lunch', '#bhfyp', '#foodlovers', '#foodpic', '#instagram', '#breakfast', '#italianfood', 'food_impramation', '#travel', '#nature', '#travelphotography', '#photography', '#love', '#photooftheday', '#instagood', '#travelgram', '#picoftheday', '#instagram', '#beautiful', '#photo', '#wanderlust', '#naturephotography', '#adventure', '#art', '#travelblogger', '#instatravel', '#landscape', '#like', '#summer', '#explore', '#trip', '#vacation', '#follow', '#traveling', '#ig', '#bhfyp', '#happy', '#fashion', 'food_impramation', '#foodblogger', '#food', '#foodie', '#foodporn', '#foodphotography', '#foodstagram', '#instafood', '#foodlover', '#yummy', '#delicious', '#foodgasm', '#foodies', '#homemade', '#foodpics', '#instagood', '#healthyfood', '#foodblog', '#foodiesofinstagram', '#tasty', '#dinner', '#indianfood', '#love', '#cooking', '#lunch', '#bhfyp', '#foodlovers', '#foodpic', '#instagram', '#breakfast', '#italianfood', 'food_impramation', '#cocktail', '#cocktails', '#bar', '#drinks', '#bartender', '#drink', '#mixology', '#gin', '#cocktailbar', '#drinkstagram', '#food', '#mixologist', '#wine', '#instagood', '#cocktailsofinstagram', '#beer', '#happyhour', '#alcohol', '#bartenderlife', '#party', '#cheers', '#vodka', '#barman', '#drinkup', '#rum', '#cocktailtime', '#love', '#cocktailporn', '#craftcocktails', '#liquor', 'food_impramation', '#foodblogger', '#food', '#foodie', '#foodporn', '#foodphotography', '#foodstagram', '#instafood', '#foodlover', '#yummy', '#delicious', '#foodgasm', '#foodies', '#homemade', '#foodpics', '#instagood', '#healthyfood', '#foodblog', '#foodiesofinstagram', '#tasty', '#dinner', '#indianfood', '#love', '#cooking', '#lunch', '#bhfyp', '#foodlovers', '#foodpic', '#instagram', '#breakfast', '#italianfood', 'food_impramation', '#kombucha', '#scoby', '#probiotics', '#kombuchalove', '#kombuchabrewing', '#vegan', '#guthealth', '#fermentation', '#kombuchatea', '#organic', '#healthylifestyle', '#healthy', '#probioticos', '#booch', '#probiotic', '#tea', '#healthyfood', '#kombuchalover', '#kombuchabrasil', '#fermentedfoods', '#kombuchalife', '#natural', '#fermented', '#fermentedtea', '#kefir', '#plantbased', '#health', '#glutenfree', '#kombuchalovers', '#coffee', 'food_impramation', '#foodblogger', '#food', '#foodie', '#foodporn', '#foodphotography', '#foodstagram', '#instafood', '#foodlover', '#yummy', '#delicious', '#foodgasm', '#foodies', '#homemade', '#foodpics', '#instagood', '#healthyfood', '#foodblog', '#foodiesofinstagram', '#tasty', '#dinner', '#indianfood', '#love', '#cooking', '#lunch', '#bhfyp', '#foodlovers', '#foodpic', '#instagram', '#breakfast', '#italianfood', 'food_impramation', '#foodblogger', '#food', '#foodie', '#foodporn', '#foodphotography', '#foodstagram', '#instafood', '#foodlover', '#yummy', '#delicious', '#foodgasm', '#foodies', '#homemade', '#foodpics', '#instagood', '#healthyfood', '#foodblog', '#foodiesofinstagram', '#tasty', '#dinner', '#indianfood', '#love', '#cooking', '#lunch', '#bhfyp', '#foodlovers', '#foodpic', '#instagram', '#breakfast', '#italianfood', 'food_impramation', '#foodblogger', '#food', '#foodie', '#foodporn', '#foodphotography', '#foodstagram', '#instafood', '#foodlover', '#yummy', '#delicious', '#foodgasm', '#foodies', '#homemade', '#foodpics', '#instagood', '#healthyfood', '#foodblog', '#foodiesofinstagram', '#tasty', '#dinner', '#indianfood', '#love', '#cooking', '#lunch', '#bhfyp', '#foodlovers', '#foodpic', '#instagram', '#breakfast', '#italianfood', 'food_impramation', '#foodblogger', '#food', '#foodie', '#foodporn', '#foodphotography', '#foodstagram', '#instafood', '#foodlover', '#yummy', '#delicious', '#foodgasm', '#foodies', '#homemade', '#foodpics', '#instagood', '#healthyfood', '#foodblog', '#foodiesofinstagram', '#tasty', '#dinner', '#indianfood', '#love', '#cooking', '#lunch', '#bhfyp', '#foodlovers', '#foodpic', '#instagram', '#breakfast', '#italianfood']\n",
      "\n",
      "\n"
     ]
    }
   ],
   "source": [
    "# extract all the list of text of top 5 user which I get in previous qes and store them in list for further requirments\n",
    "\n",
    "# this variable will store all the words\n",
    "words_of_5_user = []\n",
    "\n",
    "\n",
    "for Id in top_five_handles:\n",
    "    user_url = Store_user_IDs[Id] #get the url of the account\n",
    "    \n",
    "    text_list = content_of_post(user_url,10) #call the function to get the list of words used in last 10 post\n",
    "    \n",
    "    words_of_5_user.extend(text_list) \n",
    "    #The extend() method adds the specified list elements (or any iterable) to the end of the current list.\n",
    "    \n",
    "    #print the result\n",
    "    print(Id,'--->',text_list)\n",
    "    print()\n",
    "    print()"
   ]
  },
  {
   "cell_type": "markdown",
   "id": "7acbbec6",
   "metadata": {},
   "source": [
    "## 2.2 Prepare a list of all words used in all the scraped posts and calculate the frequency of each word."
   ]
  },
  {
   "cell_type": "code",
   "execution_count": 32,
   "id": "12ffa598",
   "metadata": {},
   "outputs": [],
   "source": [
    "# function to return the frequency of all the words\n",
    "def get_word_frequency(List_of_words):\n",
    "    dct = {}\n",
    "    words_list = []\n",
    "    for word in List_of_words:\n",
    "        dct[word] = dct.get(word,0) + 1\n",
    "    return dct"
   ]
  },
  {
   "cell_type": "code",
   "execution_count": 33,
   "id": "c872b352",
   "metadata": {},
   "outputs": [
    {
     "data": {
      "text/plain": [
       "{'foodie_incarnate': 10,\n",
       " '#foodieincarnate': 10,\n",
       " '#reelitfeelit': 8,\n",
       " '#reelkarofeelkaro': 7,\n",
       " '#reelsinstagram': 7,\n",
       " '#reels': 7,\n",
       " '#saibaba': 1,\n",
       " '#shirdi': 1,\n",
       " '#shirdisaibaba': 1,\n",
       " '#viralfood': 7,\n",
       " '#explore': 8,\n",
       " '#bihar': 2,\n",
       " '#patna': 2,\n",
       " '#sodelhi': 1,\n",
       " '#newdelhi': 1,\n",
       " '#foodtalkindia': 11,\n",
       " '#desifood': 1,\n",
       " '#delhigram': 1,\n",
       " '#indianfood': 10,\n",
       " '#pancake': 1,\n",
       " '#japanesecuisine': 2,\n",
       " '#coffee': 2,\n",
       " '#delhi': 4,\n",
       " '#delhifood': 1,\n",
       " '#delhifoodie': 1,\n",
       " '#jigglypancake': 1,\n",
       " '#pancakes': 1,\n",
       " '#foodblogger': 14,\n",
       " '#delhifoodblogger': 1,\n",
       " '#mumbaifoodblogger': 1,\n",
       " '#indianfoodblogger': 1,\n",
       " '#selectcitywalk': 1,\n",
       " '#indianfoodie': 2,\n",
       " '#thingstodoindelhi': 1,\n",
       " '#japanesefood': 1,\n",
       " '#panipuri': 2,\n",
       " '#streetfood': 5,\n",
       " '#golgappa': 2,\n",
       " '#ghaziabad': 1,\n",
       " '#ghaziabadfood': 1,\n",
       " '#indianstreetfood': 2,\n",
       " '#puchka': 1,\n",
       " '#golgappe': 1,\n",
       " '#bihari': 1,\n",
       " '#mumbai': 5,\n",
       " '#staycation': 1,\n",
       " '#crowneplaza': 1,\n",
       " '#foodieincarnaterestaurantreviews': 1,\n",
       " '#crowneplazagreaternoida': 1,\n",
       " '#bhaang': 1,\n",
       " '#hash': 1,\n",
       " '#high': 1,\n",
       " 'foodies_findings': 10,\n",
       " '#foodiesfindings': 10,\n",
       " '#friedrice': 10,\n",
       " '#chennaifoodie': 11,\n",
       " '#chennaiblogger': 10,\n",
       " '#chennaifood': 11,\n",
       " '#chennaifoodblogger': 10,\n",
       " '#chennaifoodguide': 10,\n",
       " '#chennaifoodspots': 10,\n",
       " '#wherechennaieats': 10,\n",
       " '#foodofchennai': 10,\n",
       " '#chennaites': 10,\n",
       " '#chennai😍': 10,\n",
       " '#instafood': 25,\n",
       " '#walkwithchennai': 10,\n",
       " '#foodgasm': 18,\n",
       " '#foodporn': 17,\n",
       " '#chennaifoodies': 10,\n",
       " '#foodaddict': 10,\n",
       " '#foodstagram': 17,\n",
       " '#foodvideography': 10,\n",
       " '#reelsininstagram': 10,\n",
       " '#eatrepeat': 10,\n",
       " '#Alwarpet': 9,\n",
       " '#biryanilove': 10,\n",
       " '#biryanilover': 10,\n",
       " '#bangalore': 1,\n",
       " '#Trivandrum': 1,\n",
       " '#Kethelschicken': 1,\n",
       " 'redfmmalayalam': 2,\n",
       " 'r_j_hemanth': 1,\n",
       " '#next': 1,\n",
       " 'foodhunter_sabu': 7,\n",
       " '#foodhunt': 1,\n",
       " '#mumbaidiaries': 1,\n",
       " '#mumbaifood': 1,\n",
       " '#keralagram': 3,\n",
       " '#keralaattraction': 3,\n",
       " '#travelreels': 3,\n",
       " '#falooda': 1,\n",
       " '#foodhunter_sabu': 6,\n",
       " '#malayali': 3,\n",
       " '#kerala': 3,\n",
       " '#calicut': 4,\n",
       " '#calicutbeach': 2,\n",
       " '#calicutdiaries': 3,\n",
       " '#kozhikode': 3,\n",
       " '#kozhikoden': 3,\n",
       " '#mallu': 1,\n",
       " '#travelling': 1,\n",
       " '#panasian': 2,\n",
       " '#kochidiaries': 1,\n",
       " '#kannurdiaries': 1,\n",
       " '#kannurfood': 1,\n",
       " '#solocafe': 1,\n",
       " '#foodlove': 1,\n",
       " '#foodloversindia': 1,\n",
       " '#kerala360': 1,\n",
       " '#kerala🌴': 1,\n",
       " '#malayalis': 1,\n",
       " '#keralafood': 1,\n",
       " '#lunch': 8,\n",
       " '#seafood': 2,\n",
       " '#traveller': 2,\n",
       " '#travelphotography': 2,\n",
       " '#traveling': 3,\n",
       " '#foodies': 8,\n",
       " '#malappuram': 2,\n",
       " '#malabar': 2,\n",
       " '#kondotty': 1,\n",
       " '#karipurairport': 1,\n",
       " '#kozhikottukar': 2,\n",
       " '#tamilnadu': 1,\n",
       " '#tamilnadutourism': 1,\n",
       " '#madurai': 1,\n",
       " '#maduraifood': 1,\n",
       " '#chennai': 1,\n",
       " '#pondichery': 1,\n",
       " '#keralablasters': 2,\n",
       " '#keralagallery': 3,\n",
       " '#kochivibes': 2,\n",
       " '#kollam': 1,\n",
       " '#alappuzha': 1,\n",
       " '#trivandrumdiaries': 1,\n",
       " '#travel': 2,\n",
       " '#travelblogger': 2,\n",
       " '#foodvlogger': 1,\n",
       " '#keralablogger': 1,\n",
       " '#keraladiaries': 1,\n",
       " '#prawns': 1,\n",
       " '#streetfoodindia': 1,\n",
       " '#foodiegram': 1,\n",
       " '#foodielife': 1,\n",
       " '#calicutfood': 1,\n",
       " '#wayanad': 1,\n",
       " '#wayanadan': 1,\n",
       " '#wayanaddiaries': 1,\n",
       " '#asian': 1,\n",
       " '#sushi': 1,\n",
       " '#beefsteak': 1,\n",
       " '#wagyu': 1,\n",
       " '#keralatourism': 2,\n",
       " '#travellers': 1,\n",
       " '#TyohaarWahiMithaasNayi': 1,\n",
       " '#Ad': 1,\n",
       " '#KwalityWalls': 1,\n",
       " '#DiwaliMeetha': 1,\n",
       " '#DiwaliFood': 1,\n",
       " '#DiwaliCelebration': 1,\n",
       " '#DiwaliDesserts': 1,\n",
       " '#GulabJamun': 1,\n",
       " '#desserts': 1,\n",
       " '#IcecreamDessert': 1,\n",
       " '#Diwali2022': 1,\n",
       " '#GulabJamunIceCream': 1,\n",
       " '#DiwaliTreats': 1,\n",
       " '#happydiwali': 1,\n",
       " '#indian': 1,\n",
       " '#perinthalmanna': 1,\n",
       " '#kottakkal': 1,\n",
       " '#malappuramkaar': 1,\n",
       " '#mallugram': 1,\n",
       " '#malluhood': 1,\n",
       " '#travelgram': 2,\n",
       " '#travelindia': 1,\n",
       " '#foodlover': 8,\n",
       " '#healthyfood': 9,\n",
       " '#kochigram': 1,\n",
       " '#avilmilk': 1,\n",
       " '#mouzy': 1,\n",
       " '#malabares': 1,\n",
       " 'foodtalkindia': 10,\n",
       " '#NewInTown': 3,\n",
       " '#taproom': 1,\n",
       " '#beer': 3,\n",
       " '#food': 10,\n",
       " '#collaboration': 1,\n",
       " '#foodiesofindia': 8,\n",
       " '#delicious': 13,\n",
       " '#yummy': 13,\n",
       " '#discover': 10,\n",
       " '#growwithjade': 1,\n",
       " '#tykexjadeforest': 1,\n",
       " '#beverage': 1,\n",
       " '#paranthas': 1,\n",
       " '#GiveawayAlert': 1,\n",
       " '#baraat': 1,\n",
       " '#giveaway': 1,\n",
       " '#participatenow': 1,\n",
       " '#indiancuisine': 1,\n",
       " '#regional': 1,\n",
       " '#bizza': 1,\n",
       " '#pizza': 1,\n",
       " '#cocktails': 2,\n",
       " '#artisanal': 1,\n",
       " '#woodfired': 1,\n",
       " '#oven': 1,\n",
       " '#grilledcheese': 1,\n",
       " '#sandwich': 1,\n",
       " '#athome': 1,\n",
       " '#instareels': 1,\n",
       " '#FIFA2022': 1,\n",
       " '#football': 1,\n",
       " '#bars': 1,\n",
       " '#deliverykitchens': 1,\n",
       " '#burgers': 1,\n",
       " '#hotdogs': 1,\n",
       " '#pizzas': 1,\n",
       " '#midnight': 1,\n",
       " '#cravings': 1,\n",
       " '#instagood': 10,\n",
       " '#hosa': 1,\n",
       " '#southindian': 1,\n",
       " '#goa': 1,\n",
       " '#foodbloggers': 1,\n",
       " '#instagram': 10,\n",
       " '#newmenus': 1,\n",
       " '#roundup': 1,\n",
       " '#foodtalk': 1,\n",
       " 'food_impramation': 10,\n",
       " '#foodie': 7,\n",
       " '#foodphotography': 7,\n",
       " '#homemade': 7,\n",
       " '#foodpics': 7,\n",
       " '#foodblog': 7,\n",
       " '#foodiesofinstagram': 7,\n",
       " '#tasty': 7,\n",
       " '#dinner': 7,\n",
       " '#love': 9,\n",
       " '#cooking': 7,\n",
       " '#bhfyp': 8,\n",
       " '#foodlovers': 7,\n",
       " '#foodpic': 7,\n",
       " '#breakfast': 7,\n",
       " '#italianfood': 7,\n",
       " '#nature': 1,\n",
       " '#photography': 1,\n",
       " '#photooftheday': 1,\n",
       " '#picoftheday': 1,\n",
       " '#beautiful': 1,\n",
       " '#photo': 1,\n",
       " '#wanderlust': 1,\n",
       " '#naturephotography': 1,\n",
       " '#adventure': 1,\n",
       " '#art': 1,\n",
       " '#instatravel': 1,\n",
       " '#landscape': 1,\n",
       " '#like': 1,\n",
       " '#summer': 1,\n",
       " '#trip': 1,\n",
       " '#vacation': 1,\n",
       " '#follow': 1,\n",
       " '#ig': 1,\n",
       " '#happy': 1,\n",
       " '#fashion': 1,\n",
       " '#cocktail': 1,\n",
       " '#bar': 1,\n",
       " '#drinks': 1,\n",
       " '#bartender': 1,\n",
       " '#drink': 1,\n",
       " '#mixology': 1,\n",
       " '#gin': 1,\n",
       " '#cocktailbar': 1,\n",
       " '#drinkstagram': 1,\n",
       " '#mixologist': 1,\n",
       " '#wine': 1,\n",
       " '#cocktailsofinstagram': 1,\n",
       " '#happyhour': 1,\n",
       " '#alcohol': 1,\n",
       " '#bartenderlife': 1,\n",
       " '#party': 1,\n",
       " '#cheers': 1,\n",
       " '#vodka': 1,\n",
       " '#barman': 1,\n",
       " '#drinkup': 1,\n",
       " '#rum': 1,\n",
       " '#cocktailtime': 1,\n",
       " '#cocktailporn': 1,\n",
       " '#craftcocktails': 1,\n",
       " '#liquor': 1,\n",
       " '#kombucha': 1,\n",
       " '#scoby': 1,\n",
       " '#probiotics': 1,\n",
       " '#kombuchalove': 1,\n",
       " '#kombuchabrewing': 1,\n",
       " '#vegan': 1,\n",
       " '#guthealth': 1,\n",
       " '#fermentation': 1,\n",
       " '#kombuchatea': 1,\n",
       " '#organic': 1,\n",
       " '#healthylifestyle': 1,\n",
       " '#healthy': 1,\n",
       " '#probioticos': 1,\n",
       " '#booch': 1,\n",
       " '#probiotic': 1,\n",
       " '#tea': 1,\n",
       " '#kombuchalover': 1,\n",
       " '#kombuchabrasil': 1,\n",
       " '#fermentedfoods': 1,\n",
       " '#kombuchalife': 1,\n",
       " '#natural': 1,\n",
       " '#fermented': 1,\n",
       " '#fermentedtea': 1,\n",
       " '#kefir': 1,\n",
       " '#plantbased': 1,\n",
       " '#health': 1,\n",
       " '#glutenfree': 1,\n",
       " '#kombuchalovers': 1}"
      ]
     },
     "execution_count": 33,
     "metadata": {},
     "output_type": "execute_result"
    }
   ],
   "source": [
    "# calling the function\n",
    "word_freq_dict = get_word_frequency(words_of_5_user)\n",
    "word_freq_dict"
   ]
  },
  {
   "cell_type": "markdown",
   "id": "7a9b3860",
   "metadata": {},
   "source": [
    "## 2.3 Create a csv file with two columns : the word and its frequency"
   ]
  },
  {
   "cell_type": "code",
   "execution_count": 34,
   "id": "d37b5ed3",
   "metadata": {},
   "outputs": [],
   "source": [
    "words = [ key for key,value in word_freq_dict.items()]\n",
    "word_frequency = [ value for key,value in word_freq_dict.items()]"
   ]
  },
  {
   "cell_type": "code",
   "execution_count": 35,
   "id": "71c719fb",
   "metadata": {},
   "outputs": [],
   "source": [
    "# Create a csv file with two columns : the word and its frequency\n",
    "columns = {\"Word\":words,\"Frequency\":word_frequency}"
   ]
  },
  {
   "cell_type": "code",
   "execution_count": 36,
   "id": "06804a8e",
   "metadata": {},
   "outputs": [],
   "source": [
    "# Create the pandas dataframe \n",
    "df = pd.DataFrame(columns)"
   ]
  },
  {
   "cell_type": "code",
   "execution_count": 37,
   "id": "f86aaf57",
   "metadata": {},
   "outputs": [],
   "source": [
    "#using .to_csv pandas function to convert dataframe to csv without Index values\n",
    "df.to_csv('words_frequency.csv',index=False)"
   ]
  },
  {
   "cell_type": "code",
   "execution_count": 38,
   "id": "00034739",
   "metadata": {},
   "outputs": [
    {
     "data": {
      "text/html": [
       "<div>\n",
       "<style scoped>\n",
       "    .dataframe tbody tr th:only-of-type {\n",
       "        vertical-align: middle;\n",
       "    }\n",
       "\n",
       "    .dataframe tbody tr th {\n",
       "        vertical-align: top;\n",
       "    }\n",
       "\n",
       "    .dataframe thead th {\n",
       "        text-align: right;\n",
       "    }\n",
       "</style>\n",
       "<table border=\"1\" class=\"dataframe\">\n",
       "  <thead>\n",
       "    <tr style=\"text-align: right;\">\n",
       "      <th></th>\n",
       "      <th>Word</th>\n",
       "      <th>Frequency</th>\n",
       "    </tr>\n",
       "  </thead>\n",
       "  <tbody>\n",
       "    <tr>\n",
       "      <th>0</th>\n",
       "      <td>foodie_incarnate</td>\n",
       "      <td>10</td>\n",
       "    </tr>\n",
       "    <tr>\n",
       "      <th>1</th>\n",
       "      <td>#foodieincarnate</td>\n",
       "      <td>10</td>\n",
       "    </tr>\n",
       "    <tr>\n",
       "      <th>2</th>\n",
       "      <td>#reelitfeelit</td>\n",
       "      <td>8</td>\n",
       "    </tr>\n",
       "    <tr>\n",
       "      <th>3</th>\n",
       "      <td>#reelkarofeelkaro</td>\n",
       "      <td>7</td>\n",
       "    </tr>\n",
       "    <tr>\n",
       "      <th>4</th>\n",
       "      <td>#reelsinstagram</td>\n",
       "      <td>7</td>\n",
       "    </tr>\n",
       "    <tr>\n",
       "      <th>...</th>\n",
       "      <td>...</td>\n",
       "      <td>...</td>\n",
       "    </tr>\n",
       "    <tr>\n",
       "      <th>315</th>\n",
       "      <td>#kefir</td>\n",
       "      <td>1</td>\n",
       "    </tr>\n",
       "    <tr>\n",
       "      <th>316</th>\n",
       "      <td>#plantbased</td>\n",
       "      <td>1</td>\n",
       "    </tr>\n",
       "    <tr>\n",
       "      <th>317</th>\n",
       "      <td>#health</td>\n",
       "      <td>1</td>\n",
       "    </tr>\n",
       "    <tr>\n",
       "      <th>318</th>\n",
       "      <td>#glutenfree</td>\n",
       "      <td>1</td>\n",
       "    </tr>\n",
       "    <tr>\n",
       "      <th>319</th>\n",
       "      <td>#kombuchalovers</td>\n",
       "      <td>1</td>\n",
       "    </tr>\n",
       "  </tbody>\n",
       "</table>\n",
       "<p>320 rows × 2 columns</p>\n",
       "</div>"
      ],
      "text/plain": [
       "                  Word  Frequency\n",
       "0     foodie_incarnate         10\n",
       "1     #foodieincarnate         10\n",
       "2        #reelitfeelit          8\n",
       "3    #reelkarofeelkaro          7\n",
       "4      #reelsinstagram          7\n",
       "..                 ...        ...\n",
       "315             #kefir          1\n",
       "316        #plantbased          1\n",
       "317            #health          1\n",
       "318        #glutenfree          1\n",
       "319    #kombuchalovers          1\n",
       "\n",
       "[320 rows x 2 columns]"
      ]
     },
     "execution_count": 38,
     "metadata": {},
     "output_type": "execute_result"
    }
   ],
   "source": [
    "# Printing the Top 10 Row of the table\n",
    "df"
   ]
  },
  {
   "cell_type": "markdown",
   "id": "2ccd254e",
   "metadata": {},
   "source": [
    "## 2.4 Now, find the hashtags that were most popular among these bloggers"
   ]
  },
  {
   "cell_type": "code",
   "execution_count": 39,
   "id": "5c5d86ea",
   "metadata": {},
   "outputs": [],
   "source": [
    "# Functio to sort the dictionary's keys according to the value \n",
    "def sort_by_value(Dict):\n",
    "    sorted_data = [[value,key] for key,value in Dict.items()]\n",
    "    \n",
    "    # sort in the decreasing order\n",
    "    sorted_data.sort(reverse=True)\n",
    "    \n",
    "    # return the sorted list\n",
    "    return sorted_data"
   ]
  },
  {
   "cell_type": "code",
   "execution_count": 40,
   "id": "ddc0bf68",
   "metadata": {},
   "outputs": [],
   "source": [
    "# Now, find the hashtags that were most popular among these bloggers\n",
    "hastag_with_frequency = sort_by_value(word_freq_dict)"
   ]
  },
  {
   "cell_type": "code",
   "execution_count": 41,
   "id": "dfbb00c3",
   "metadata": {},
   "outputs": [
    {
     "name": "stdout",
     "output_type": "stream",
     "text": [
      "#instafood --> 25 Hashtags\n",
      "#foodgasm --> 18 Hashtags\n",
      "#foodstagram --> 17 Hashtags\n",
      "#foodporn --> 17 Hashtags\n",
      "#foodblogger --> 14 Hashtags\n",
      "#yummy --> 13 Hashtags\n",
      "#delicious --> 13 Hashtags\n",
      "#foodtalkindia --> 11 Hashtags\n",
      "#chennaifoodie --> 11 Hashtags\n",
      "#chennaifood --> 11 Hashtags\n",
      "foodtalkindia --> 10 Hashtags\n",
      "foodies_findings --> 10 Hashtags\n",
      "foodie_incarnate --> 10 Hashtags\n",
      "food_impramation --> 10 Hashtags\n",
      "#wherechennaieats --> 10 Hashtags\n",
      "#walkwithchennai --> 10 Hashtags\n",
      "#reelsininstagram --> 10 Hashtags\n",
      "#instagram --> 10 Hashtags\n",
      "#instagood --> 10 Hashtags\n",
      "#indianfood --> 10 Hashtags\n",
      "#friedrice --> 10 Hashtags\n",
      "#foodvideography --> 10 Hashtags\n",
      "#foodofchennai --> 10 Hashtags\n",
      "#foodiesfindings --> 10 Hashtags\n",
      "#foodieincarnate --> 10 Hashtags\n",
      "#foodaddict --> 10 Hashtags\n",
      "#food --> 10 Hashtags\n",
      "#eatrepeat --> 10 Hashtags\n",
      "#discover --> 10 Hashtags\n",
      "#chennai😍 --> 10 Hashtags\n",
      "#chennaites --> 10 Hashtags\n",
      "#chennaifoodspots --> 10 Hashtags\n",
      "#chennaifoodies --> 10 Hashtags\n",
      "#chennaifoodguide --> 10 Hashtags\n",
      "#chennaifoodblogger --> 10 Hashtags\n",
      "#chennaiblogger --> 10 Hashtags\n",
      "#biryanilover --> 10 Hashtags\n",
      "#biryanilove --> 10 Hashtags\n",
      "#love --> 9 Hashtags\n",
      "#healthyfood --> 9 Hashtags\n",
      "#Alwarpet --> 9 Hashtags\n",
      "#reelitfeelit --> 8 Hashtags\n",
      "#lunch --> 8 Hashtags\n",
      "#foodlover --> 8 Hashtags\n",
      "#foodiesofindia --> 8 Hashtags\n",
      "#foodies --> 8 Hashtags\n",
      "#explore --> 8 Hashtags\n",
      "#bhfyp --> 8 Hashtags\n",
      "foodhunter_sabu --> 7 Hashtags\n",
      "#viralfood --> 7 Hashtags\n",
      "#tasty --> 7 Hashtags\n",
      "#reelsinstagram --> 7 Hashtags\n",
      "#reels --> 7 Hashtags\n",
      "#reelkarofeelkaro --> 7 Hashtags\n",
      "#italianfood --> 7 Hashtags\n",
      "#homemade --> 7 Hashtags\n",
      "#foodpics --> 7 Hashtags\n",
      "#foodpic --> 7 Hashtags\n",
      "#foodphotography --> 7 Hashtags\n",
      "#foodlovers --> 7 Hashtags\n",
      "#foodiesofinstagram --> 7 Hashtags\n",
      "#foodie --> 7 Hashtags\n",
      "#foodblog --> 7 Hashtags\n",
      "#dinner --> 7 Hashtags\n",
      "#cooking --> 7 Hashtags\n",
      "#breakfast --> 7 Hashtags\n",
      "#foodhunter_sabu --> 6 Hashtags\n",
      "#streetfood --> 5 Hashtags\n",
      "#mumbai --> 5 Hashtags\n",
      "#delhi --> 4 Hashtags\n",
      "#calicut --> 4 Hashtags\n",
      "#travelreels --> 3 Hashtags\n",
      "#traveling --> 3 Hashtags\n",
      "#malayali --> 3 Hashtags\n",
      "#kozhikoden --> 3 Hashtags\n",
      "#kozhikode --> 3 Hashtags\n",
      "#keralagram --> 3 Hashtags\n",
      "#keralagallery --> 3 Hashtags\n",
      "#keralaattraction --> 3 Hashtags\n",
      "#kerala --> 3 Hashtags\n",
      "#calicutdiaries --> 3 Hashtags\n",
      "#beer --> 3 Hashtags\n",
      "#NewInTown --> 3 Hashtags\n",
      "redfmmalayalam --> 2 Hashtags\n",
      "#travelphotography --> 2 Hashtags\n",
      "#traveller --> 2 Hashtags\n",
      "#travelgram --> 2 Hashtags\n",
      "#travelblogger --> 2 Hashtags\n",
      "#travel --> 2 Hashtags\n",
      "#seafood --> 2 Hashtags\n",
      "#patna --> 2 Hashtags\n",
      "#panipuri --> 2 Hashtags\n",
      "#panasian --> 2 Hashtags\n",
      "#malappuram --> 2 Hashtags\n",
      "#malabar --> 2 Hashtags\n",
      "#kozhikottukar --> 2 Hashtags\n",
      "#kochivibes --> 2 Hashtags\n",
      "#keralatourism --> 2 Hashtags\n",
      "#keralablasters --> 2 Hashtags\n",
      "#japanesecuisine --> 2 Hashtags\n",
      "#indianstreetfood --> 2 Hashtags\n",
      "#indianfoodie --> 2 Hashtags\n",
      "#golgappa --> 2 Hashtags\n",
      "#coffee --> 2 Hashtags\n",
      "#cocktails --> 2 Hashtags\n",
      "#calicutbeach --> 2 Hashtags\n",
      "#bihar --> 2 Hashtags\n",
      "r_j_hemanth --> 1 Hashtags\n",
      "#woodfired --> 1 Hashtags\n",
      "#wine --> 1 Hashtags\n",
      "#wayanaddiaries --> 1 Hashtags\n",
      "#wayanadan --> 1 Hashtags\n",
      "#wayanad --> 1 Hashtags\n",
      "#wanderlust --> 1 Hashtags\n",
      "#wagyu --> 1 Hashtags\n",
      "#vodka --> 1 Hashtags\n",
      "#vegan --> 1 Hashtags\n",
      "#vacation --> 1 Hashtags\n",
      "#tykexjadeforest --> 1 Hashtags\n",
      "#trivandrumdiaries --> 1 Hashtags\n",
      "#trip --> 1 Hashtags\n",
      "#travelling --> 1 Hashtags\n",
      "#travellers --> 1 Hashtags\n",
      "#travelindia --> 1 Hashtags\n",
      "#thingstodoindelhi --> 1 Hashtags\n",
      "#tea --> 1 Hashtags\n",
      "#taproom --> 1 Hashtags\n",
      "#tamilnadutourism --> 1 Hashtags\n",
      "#tamilnadu --> 1 Hashtags\n",
      "#sushi --> 1 Hashtags\n",
      "#summer --> 1 Hashtags\n",
      "#streetfoodindia --> 1 Hashtags\n",
      "#staycation --> 1 Hashtags\n",
      "#southindian --> 1 Hashtags\n",
      "#solocafe --> 1 Hashtags\n",
      "#sodelhi --> 1 Hashtags\n",
      "#shirdisaibaba --> 1 Hashtags\n",
      "#shirdi --> 1 Hashtags\n",
      "#selectcitywalk --> 1 Hashtags\n",
      "#scoby --> 1 Hashtags\n",
      "#sandwich --> 1 Hashtags\n",
      "#saibaba --> 1 Hashtags\n",
      "#rum --> 1 Hashtags\n",
      "#roundup --> 1 Hashtags\n",
      "#regional --> 1 Hashtags\n",
      "#puchka --> 1 Hashtags\n",
      "#probiotics --> 1 Hashtags\n",
      "#probioticos --> 1 Hashtags\n",
      "#probiotic --> 1 Hashtags\n",
      "#prawns --> 1 Hashtags\n",
      "#pondichery --> 1 Hashtags\n",
      "#plantbased --> 1 Hashtags\n",
      "#pizzas --> 1 Hashtags\n",
      "#pizza --> 1 Hashtags\n",
      "#picoftheday --> 1 Hashtags\n",
      "#photooftheday --> 1 Hashtags\n",
      "#photography --> 1 Hashtags\n",
      "#photo --> 1 Hashtags\n",
      "#perinthalmanna --> 1 Hashtags\n",
      "#party --> 1 Hashtags\n",
      "#participatenow --> 1 Hashtags\n",
      "#paranthas --> 1 Hashtags\n",
      "#pancakes --> 1 Hashtags\n",
      "#pancake --> 1 Hashtags\n",
      "#oven --> 1 Hashtags\n",
      "#organic --> 1 Hashtags\n",
      "#next --> 1 Hashtags\n",
      "#newmenus --> 1 Hashtags\n",
      "#newdelhi --> 1 Hashtags\n",
      "#naturephotography --> 1 Hashtags\n",
      "#nature --> 1 Hashtags\n",
      "#natural --> 1 Hashtags\n",
      "#mumbaifoodblogger --> 1 Hashtags\n",
      "#mumbaifood --> 1 Hashtags\n",
      "#mumbaidiaries --> 1 Hashtags\n",
      "#mouzy --> 1 Hashtags\n",
      "#mixology --> 1 Hashtags\n",
      "#mixologist --> 1 Hashtags\n",
      "#midnight --> 1 Hashtags\n",
      "#malluhood --> 1 Hashtags\n",
      "#mallugram --> 1 Hashtags\n",
      "#mallu --> 1 Hashtags\n",
      "#malayalis --> 1 Hashtags\n",
      "#malappuramkaar --> 1 Hashtags\n",
      "#malabares --> 1 Hashtags\n",
      "#maduraifood --> 1 Hashtags\n",
      "#madurai --> 1 Hashtags\n",
      "#liquor --> 1 Hashtags\n",
      "#like --> 1 Hashtags\n",
      "#landscape --> 1 Hashtags\n",
      "#kottakkal --> 1 Hashtags\n",
      "#kondotty --> 1 Hashtags\n",
      "#kombuchatea --> 1 Hashtags\n",
      "#kombuchalovers --> 1 Hashtags\n",
      "#kombuchalover --> 1 Hashtags\n",
      "#kombuchalove --> 1 Hashtags\n",
      "#kombuchalife --> 1 Hashtags\n",
      "#kombuchabrewing --> 1 Hashtags\n",
      "#kombuchabrasil --> 1 Hashtags\n",
      "#kombucha --> 1 Hashtags\n",
      "#kollam --> 1 Hashtags\n",
      "#kochigram --> 1 Hashtags\n",
      "#kochidiaries --> 1 Hashtags\n",
      "#kerala🌴 --> 1 Hashtags\n",
      "#keralafood --> 1 Hashtags\n",
      "#keraladiaries --> 1 Hashtags\n",
      "#keralablogger --> 1 Hashtags\n",
      "#kerala360 --> 1 Hashtags\n",
      "#kefir --> 1 Hashtags\n",
      "#karipurairport --> 1 Hashtags\n",
      "#kannurfood --> 1 Hashtags\n",
      "#kannurdiaries --> 1 Hashtags\n",
      "#jigglypancake --> 1 Hashtags\n",
      "#japanesefood --> 1 Hashtags\n",
      "#instatravel --> 1 Hashtags\n",
      "#instareels --> 1 Hashtags\n",
      "#indianfoodblogger --> 1 Hashtags\n",
      "#indiancuisine --> 1 Hashtags\n",
      "#indian --> 1 Hashtags\n",
      "#ig --> 1 Hashtags\n",
      "#hotdogs --> 1 Hashtags\n",
      "#hosa --> 1 Hashtags\n",
      "#high --> 1 Hashtags\n",
      "#healthylifestyle --> 1 Hashtags\n",
      "#healthy --> 1 Hashtags\n",
      "#health --> 1 Hashtags\n",
      "#hash --> 1 Hashtags\n",
      "#happyhour --> 1 Hashtags\n",
      "#happydiwali --> 1 Hashtags\n",
      "#happy --> 1 Hashtags\n",
      "#guthealth --> 1 Hashtags\n",
      "#growwithjade --> 1 Hashtags\n",
      "#grilledcheese --> 1 Hashtags\n",
      "#golgappe --> 1 Hashtags\n",
      "#goa --> 1 Hashtags\n",
      "#glutenfree --> 1 Hashtags\n",
      "#giveaway --> 1 Hashtags\n",
      "#gin --> 1 Hashtags\n",
      "#ghaziabadfood --> 1 Hashtags\n",
      "#ghaziabad --> 1 Hashtags\n",
      "#football --> 1 Hashtags\n",
      "#foodvlogger --> 1 Hashtags\n",
      "#foodtalk --> 1 Hashtags\n",
      "#foodloversindia --> 1 Hashtags\n",
      "#foodlove --> 1 Hashtags\n",
      "#foodielife --> 1 Hashtags\n",
      "#foodieincarnaterestaurantreviews --> 1 Hashtags\n",
      "#foodiegram --> 1 Hashtags\n",
      "#foodhunt --> 1 Hashtags\n",
      "#foodbloggers --> 1 Hashtags\n",
      "#follow --> 1 Hashtags\n",
      "#fermentedtea --> 1 Hashtags\n",
      "#fermentedfoods --> 1 Hashtags\n",
      "#fermented --> 1 Hashtags\n",
      "#fermentation --> 1 Hashtags\n",
      "#fashion --> 1 Hashtags\n",
      "#falooda --> 1 Hashtags\n",
      "#drinkup --> 1 Hashtags\n",
      "#drinkstagram --> 1 Hashtags\n",
      "#drinks --> 1 Hashtags\n",
      "#drink --> 1 Hashtags\n",
      "#desserts --> 1 Hashtags\n",
      "#desifood --> 1 Hashtags\n",
      "#deliverykitchens --> 1 Hashtags\n",
      "#delhigram --> 1 Hashtags\n",
      "#delhifoodie --> 1 Hashtags\n",
      "#delhifoodblogger --> 1 Hashtags\n",
      "#delhifood --> 1 Hashtags\n",
      "#crowneplazagreaternoida --> 1 Hashtags\n",
      "#crowneplaza --> 1 Hashtags\n",
      "#cravings --> 1 Hashtags\n",
      "#craftcocktails --> 1 Hashtags\n",
      "#collaboration --> 1 Hashtags\n",
      "#cocktailtime --> 1 Hashtags\n",
      "#cocktailsofinstagram --> 1 Hashtags\n",
      "#cocktailporn --> 1 Hashtags\n",
      "#cocktailbar --> 1 Hashtags\n",
      "#cocktail --> 1 Hashtags\n",
      "#chennai --> 1 Hashtags\n",
      "#cheers --> 1 Hashtags\n",
      "#calicutfood --> 1 Hashtags\n",
      "#burgers --> 1 Hashtags\n",
      "#booch --> 1 Hashtags\n",
      "#bizza --> 1 Hashtags\n",
      "#bihari --> 1 Hashtags\n",
      "#bhaang --> 1 Hashtags\n",
      "#beverage --> 1 Hashtags\n",
      "#beefsteak --> 1 Hashtags\n",
      "#beautiful --> 1 Hashtags\n",
      "#bartenderlife --> 1 Hashtags\n",
      "#bartender --> 1 Hashtags\n",
      "#bars --> 1 Hashtags\n",
      "#barman --> 1 Hashtags\n",
      "#baraat --> 1 Hashtags\n",
      "#bar --> 1 Hashtags\n",
      "#bangalore --> 1 Hashtags\n",
      "#avilmilk --> 1 Hashtags\n",
      "#athome --> 1 Hashtags\n",
      "#asian --> 1 Hashtags\n",
      "#artisanal --> 1 Hashtags\n",
      "#art --> 1 Hashtags\n",
      "#alcohol --> 1 Hashtags\n",
      "#alappuzha --> 1 Hashtags\n",
      "#adventure --> 1 Hashtags\n",
      "#TyohaarWahiMithaasNayi --> 1 Hashtags\n",
      "#Trivandrum --> 1 Hashtags\n",
      "#KwalityWalls --> 1 Hashtags\n",
      "#Kethelschicken --> 1 Hashtags\n",
      "#IcecreamDessert --> 1 Hashtags\n",
      "#GulabJamunIceCream --> 1 Hashtags\n",
      "#GulabJamun --> 1 Hashtags\n",
      "#GiveawayAlert --> 1 Hashtags\n",
      "#FIFA2022 --> 1 Hashtags\n",
      "#DiwaliTreats --> 1 Hashtags\n",
      "#DiwaliMeetha --> 1 Hashtags\n",
      "#DiwaliFood --> 1 Hashtags\n",
      "#DiwaliDesserts --> 1 Hashtags\n",
      "#DiwaliCelebration --> 1 Hashtags\n",
      "#Diwali2022 --> 1 Hashtags\n",
      "#Ad --> 1 Hashtags\n"
     ]
    }
   ],
   "source": [
    "# top hashtags\n",
    "for i in hastag_with_frequency:\n",
    "    print(i[1],'-->',i[0],'Hashtags')"
   ]
  },
  {
   "cell_type": "markdown",
   "id": "f4bf8201",
   "metadata": {},
   "source": [
    "## 2.5 Plot a Pie Chart of the top 5 hashtags obtained and the number of times they were used by these bloggers in the scraped posts."
   ]
  },
  {
   "cell_type": "code",
   "execution_count": 42,
   "id": "d18040e2",
   "metadata": {},
   "outputs": [],
   "source": [
    "# Plot a Pie Chart of the top 5 hashtags obtained and the number of times they were used by these bloggers in the scraped posts.\n",
    "\n",
    "# This will store the hashtag name\n",
    "top_five_hastags = [ i[1] for i in hastag_with_frequency[:5]] \n",
    "\n",
    "\n",
    "# This will store the frequency of that hasntag \n",
    "hastag_counts = [ i[0] for i in hastag_with_frequency[:5]]"
   ]
  },
  {
   "cell_type": "markdown",
   "id": "2086f76d",
   "metadata": {},
   "source": [
    "Pie graph to get the idea of which hashtag has been used for most of the time."
   ]
  },
  {
   "cell_type": "code",
   "execution_count": 43,
   "id": "4cbce343",
   "metadata": {},
   "outputs": [
    {
     "data": {
      "image/png": "[encoded data removed]",
      "text/plain": [
       "<Figure size 720x720 with 1 Axes>"
      ]
     },
     "metadata": {},
     "output_type": "display_data"
    }
   ],
   "source": [
    "# Set the size of the pie chart\n",
    "plt.figure(figsize=(10,10))\n",
    "\n",
    "# set the values of the pie chart upto 2 decimal place\n",
    "plt.pie(hastag_counts,labels=top_five_hastags,autopct=\"%.2f\")\n",
    "\n",
    "# show the chart\n",
    "plt.show()"
   ]
  },
  {
   "cell_type": "markdown",
   "id": "c829e43a",
   "metadata": {},
   "source": [
    "# Problem 3: You need to also calculate average followers : likes ratio for the obtained handles.\n",
    "# Followers : Likes ratio is calculated as follows:"
   ]
  },
  {
   "cell_type": "markdown",
   "id": "b1d08f13",
   "metadata": {},
   "source": [
    "## 3.1 Find out the likes of the top 10 posts of the 5 handles obtained earlier."
   ]
  },
  {
   "cell_type": "code",
   "execution_count": 44,
   "id": "56829a3b",
   "metadata": {},
   "outputs": [],
   "source": [
    "def Likes_of_post(user_url,No_of_post):\n",
    "        \n",
    "    Totel_Likes = 0\n",
    "    driver.get(user_url)\n",
    "    sleep(2)\n",
    "    First_Post = wait.until(EC.presence_of_element_located((By.XPATH,'//div[@class=\"_ac7v _aang\"]/div[1]')))\n",
    "    First_Post.click()\n",
    "    no_of_post=0\n",
    "    while True:\n",
    "\n",
    "        HTML = wait.until(EC.presence_of_element_located((By.XPATH,'//section[@class=\"_ae5m _ae5n _ae5o\"]')))\n",
    "        \n",
    "        Likes = BeautifulSoup(HTML.get_attribute('innerHTML'),'html.parser').find_all('span')[-1]\n",
    "        #print(Likes)\n",
    "        \n",
    "        \n",
    "        Likes = int(Likes.text.replace(',',''))\n",
    "        \n",
    "        \n",
    "        Totel_Likes+=Likes\n",
    "        no_of_post += 1\n",
    "        if No_of_post==no_of_post:\n",
    "            break\n",
    "\n",
    "        Next_post = wait.until(EC.presence_of_element_located((By.XPATH,'//div[@class=\" _aaqg _aaqh\"]/button')))\n",
    "        Next_post.click()\n",
    "        sleep(2)\n",
    "\n",
    "    driver.back()\n",
    "    return Totel_Likes"
   ]
  },
  {
   "cell_type": "code",
   "execution_count": 45,
   "id": "c7a082df",
   "metadata": {},
   "outputs": [
    {
     "name": "stdout",
     "output_type": "stream",
     "text": [
      "---------------------------------\n",
      "Total Likes for 10 Posts\n",
      "---------------------------------\n",
      "foodie_incarnate ---> 260981\n",
      "\n",
      "foodies_findings ---> 238155\n",
      "\n",
      "foodhunter_sabu ---> 244364\n",
      "\n",
      "foodtalkindia ---> 2266\n",
      "\n",
      "food_impramation ---> 195165\n",
      "\n"
     ]
    }
   ],
   "source": [
    "# iterate over top 5 user handle and put profile link in function\n",
    "print(\"---------------------------------\")\n",
    "print(\"Total Likes for 10 Posts\")\n",
    "print(\"---------------------------------\")\n",
    "\n",
    "\n",
    "Total_likes_of_user = {}\n",
    "for Id in top_five_handles:\n",
    "    user_url = Store_user_IDs[Id]\n",
    "    Total_Likes = Likes_of_post(user_url,8)\n",
    "    Total_likes_of_user[Id]=Total_Likes\n",
    "    print(Id,'--->',Total_Likes)\n",
    "    print()\n"
   ]
  },
  {
   "cell_type": "markdown",
   "id": "144d1ce9",
   "metadata": {},
   "source": [
    "## 3.2 Calculate the average likes for a handle."
   ]
  },
  {
   "cell_type": "markdown",
   "id": "db3b11eb",
   "metadata": {},
   "source": [
    "Function to calculate the average like for an account"
   ]
  },
  {
   "cell_type": "code",
   "execution_count": 46,
   "id": "9813d1cc",
   "metadata": {},
   "outputs": [],
   "source": [
    "def get_avg_likes(Total_Likes,Number_of_Post):\n",
    "    avg_likes = Total_Likes / Number_of_Post\n",
    "    return avg_likes"
   ]
  },
  {
   "cell_type": "code",
   "execution_count": 47,
   "id": "022b50a9",
   "metadata": {},
   "outputs": [
    {
     "name": "stdout",
     "output_type": "stream",
     "text": [
      "---------------------------------\n",
      "Average Likes\n",
      "---------------------------------\n",
      "foodie_incarnate ----> 32623\n",
      "foodies_findings ----> 29769\n",
      "foodhunter_sabu ----> 30546\n",
      "foodtalkindia ----> 283\n",
      "food_impramation ----> 24396\n"
     ]
    }
   ],
   "source": [
    "# calculating avarge likes for 5 handles for 10 posts and store the result in list\n",
    "print(\"---------------------------------\")\n",
    "print(\"Average Likes\")\n",
    "print(\"---------------------------------\")\n",
    "average_likes_dict={}\n",
    "for Id,Total_Likes in Total_likes_of_user.items():\n",
    "    avg_likes = get_avg_likes(Total_Likes,8)\n",
    "    average_likes_dict[Id]=avg_likes\n",
    "    print(Id,'---->',format(avg_likes,'.0f'))"
   ]
  },
  {
   "cell_type": "markdown",
   "id": "1589f01b",
   "metadata": {},
   "source": [
    "## 3.3 Divide the average likes obtained from the number of followers of the handle to get the average followers:like ratio of each handle."
   ]
  },
  {
   "cell_type": "code",
   "execution_count": 48,
   "id": "66d93db5",
   "metadata": {},
   "outputs": [
    {
     "name": "stdout",
     "output_type": "stream",
     "text": [
      "---------------------------------\n",
      "Ratio Avg Followers : Avg Likes\n",
      "---------------------------------\n",
      "foodie_incarnate ----> 7 : 32622\n",
      "foodies_findings ----> 8 : 29769\n",
      "foodhunter_sabu ----> 7 : 30545\n",
      "foodtalkindia ----> 853 : 283\n",
      "food_impramation ----> 9 : 24395\n"
     ]
    }
   ],
   "source": [
    "print(\"---------------------------------\")\n",
    "print(\"Ratio Avg Followers : Avg Likes\")\n",
    "print(\"---------------------------------\")\n",
    "avg_followers = {}\n",
    "for ID in top_five_handles:\n",
    "    for i in range(5):\n",
    "        avg_followers_count = int(top_five_followers[i]/average_likes_dict[ID])\n",
    "        avg_followers[ID]=avg_followers_count\n",
    "    print(ID,'---->',avg_followers_count,':',int(average_likes_dict[ID]))"
   ]
  },
  {
   "cell_type": "markdown",
   "id": "8d227a67",
   "metadata": {},
   "source": [
    "## 3.4 Create a bar graph to depict the above obtained information."
   ]
  },
  {
   "cell_type": "code",
   "execution_count": 49,
   "id": "032daac2",
   "metadata": {},
   "outputs": [
    {
     "data": {
      "image/png": "[encoded data removed]",
      "text/plain": [
       "<Figure size 432x288 with 1 Axes>"
      ]
     },
     "metadata": {
      "needs_background": "light"
     },
     "output_type": "display_data"
    }
   ],
   "source": [
    "#for this I will use answer of problem 3.2 \n",
    "username = list(average_likes_dict.keys())\n",
    "avg_like = list(average_likes_dict.values())\n",
    "\n",
    "plt.bar(username,avg_like,color='g',alpha=0.7)\n",
    "plt.ylabel(\"Average Likes\",size=15)\n",
    "plt.xlabel(\"Handle's Name\",size=15)\n",
    "plt.xticks(rotation = 45)\n",
    "plt.title('Average like for each handle ',fontsize=20, color='green',alpha=0.8)\n",
    "plt.grid()\n",
    "plt.show()"
   ]
  },
  {
   "cell_type": "code",
   "execution_count": 50,
   "id": "c9c1a66e",
   "metadata": {},
   "outputs": [
    {
     "data": {
      "image/png": "[encoded data removed]",
      "text/plain": [
       "<Figure size 432x288 with 1 Axes>"
      ]
     },
     "metadata": {
      "needs_background": "light"
     },
     "output_type": "display_data"
    }
   ],
   "source": [
    "# Plotting Bar Graph for average followers:like ratio of each handle\n",
    "\n",
    "#For this I will use answer of problem 3.3\n",
    "username = list(avg_followers.keys())\n",
    "avg_like = list(avg_followers.values())\n",
    "\n",
    "plt.bar(username,avg_like,color='Indigo',alpha=0.6)\n",
    "plt.ylabel(\"Average Followers:Like Ratio\",size=12)\n",
    "plt.xlabel(\"Handle's Name\",size=12)\n",
    "plt.xticks(rotation = 45)\n",
    "plt.title('Average Followers:Like Ratio of Each Handle ',fontsize=20, color='Indigo',alpha=0.8)\n",
    "plt.grid()\n",
    "plt.show()\n"
   ]
  },
  {
   "cell_type": "markdown",
   "id": "f443527c",
   "metadata": {},
   "source": [
    "# Logout from Instagram"
   ]
  },
  {
   "cell_type": "code",
   "execution_count": 51,
   "id": "f28576e8",
   "metadata": {},
   "outputs": [],
   "source": [
    "def logout():\n",
    "    #locate and click to the setting button \n",
    "    wait.until(EC.presence_of_element_located((By.XPATH,'//div[contains(@CLASS,\"xl5mz7h xhuyl8g\")]'))).click()\n",
    "    sleep(1)\n",
    "    #locate the 'Log Out' button\n",
    "    wait.until(EC.presence_of_element_located((By.XPATH,'/html/body/div[2]/div/div/div/div[1]/div/div/div/div[1]/div[1]/div[1]/div/div/div/div/div[3]/div/div/div[1]/div/div[1]/div[6]/div/div/div/div/div/div'))).click()"
   ]
  },
  {
   "cell_type": "code",
   "execution_count": 52,
   "id": "9cd8f614",
   "metadata": {},
   "outputs": [],
   "source": [
    "logout()"
   ]
  },
  {
   "cell_type": "markdown",
   "id": "6170bcfd",
   "metadata": {},
   "source": [
    "Close the driver"
   ]
  },
  {
   "cell_type": "code",
   "execution_count": 53,
   "id": "d5d96958",
   "metadata": {},
   "outputs": [],
   "source": [
    "driver.close()"
   ]
  },
  {
   "cell_type": "code",
   "execution_count": null,
   "id": "8cf94587",
   "metadata": {},
   "outputs": [],
   "source": []
  }
 ],
 "metadata": {
  "kernelspec": {
   "display_name": "Python 3 (ipykernel)",
   "language": "python",
   "name": "python3"
  },
  "language_info": {
   "codemirror_mode": {
    "name": "ipython",
    "version": 3
   },
   "file_extension": ".py",
   "mimetype": "text/x-python",
   "name": "python",
   "nbconvert_exporter": "python",
   "pygments_lexer": "ipython3",
   "version": "3.9.7"
  }
 },
 "nbformat": 4,
 "nbformat_minor": 5
}
